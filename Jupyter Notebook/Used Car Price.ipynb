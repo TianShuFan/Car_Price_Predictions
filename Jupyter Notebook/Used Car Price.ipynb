{
 "cells": [
  {
   "cell_type": "code",
   "execution_count": 1,
   "metadata": {},
   "outputs": [],
   "source": [
    "# Importing EDA Packages\n",
    "import numpy as np\n",
    "import pandas as pd\n",
    "import matplotlib.pyplot as plt\n",
    "import seaborn as sns\n",
    "%matplotlib inline"
   ]
  },
  {
   "cell_type": "code",
   "execution_count": 2,
   "metadata": {},
   "outputs": [],
   "source": [
    "# Loading Used Cars Dataset\n",
    "cars = pd.read_csv(\"Used_Cars.csv\")"
   ]
  },
  {
   "cell_type": "code",
   "execution_count": 3,
   "metadata": {},
   "outputs": [
    {
     "data": {
      "text/html": [
       "<div>\n",
       "<style scoped>\n",
       "    .dataframe tbody tr th:only-of-type {\n",
       "        vertical-align: middle;\n",
       "    }\n",
       "\n",
       "    .dataframe tbody tr th {\n",
       "        vertical-align: top;\n",
       "    }\n",
       "\n",
       "    .dataframe thead th {\n",
       "        text-align: right;\n",
       "    }\n",
       "</style>\n",
       "<table border=\"1\" class=\"dataframe\">\n",
       "  <thead>\n",
       "    <tr style=\"text-align: right;\">\n",
       "      <th></th>\n",
       "      <th>id</th>\n",
       "      <th>url</th>\n",
       "      <th>region</th>\n",
       "      <th>region_url</th>\n",
       "      <th>price</th>\n",
       "      <th>year</th>\n",
       "      <th>manufacturer</th>\n",
       "      <th>model</th>\n",
       "      <th>condition</th>\n",
       "      <th>cylinders</th>\n",
       "      <th>...</th>\n",
       "      <th>drive</th>\n",
       "      <th>size</th>\n",
       "      <th>type</th>\n",
       "      <th>paint_color</th>\n",
       "      <th>image_url</th>\n",
       "      <th>description</th>\n",
       "      <th>county</th>\n",
       "      <th>state</th>\n",
       "      <th>lat</th>\n",
       "      <th>long</th>\n",
       "    </tr>\n",
       "  </thead>\n",
       "  <tbody>\n",
       "    <tr>\n",
       "      <th>0</th>\n",
       "      <td>7119256118</td>\n",
       "      <td>https://mohave.craigslist.org/ctd/d/lake-havas...</td>\n",
       "      <td>mohave county</td>\n",
       "      <td>https://mohave.craigslist.org</td>\n",
       "      <td>3495</td>\n",
       "      <td>2012.0</td>\n",
       "      <td>jeep</td>\n",
       "      <td>patriot</td>\n",
       "      <td>like new</td>\n",
       "      <td>4 cylinders</td>\n",
       "      <td>...</td>\n",
       "      <td>NaN</td>\n",
       "      <td>NaN</td>\n",
       "      <td>NaN</td>\n",
       "      <td>silver</td>\n",
       "      <td>https://images.craigslist.org/00B0B_k2AXIJ21ok...</td>\n",
       "      <td>THIS 2012 JEEP PATRIOT IS A 4CYL. AC, STEREO, ...</td>\n",
       "      <td>NaN</td>\n",
       "      <td>az</td>\n",
       "      <td>34.4554</td>\n",
       "      <td>-114.2690</td>\n",
       "    </tr>\n",
       "    <tr>\n",
       "      <th>1</th>\n",
       "      <td>7120880186</td>\n",
       "      <td>https://oregoncoast.craigslist.org/cto/d/warre...</td>\n",
       "      <td>oregon coast</td>\n",
       "      <td>https://oregoncoast.craigslist.org</td>\n",
       "      <td>13750</td>\n",
       "      <td>2014.0</td>\n",
       "      <td>bmw</td>\n",
       "      <td>328i m-sport</td>\n",
       "      <td>good</td>\n",
       "      <td>NaN</td>\n",
       "      <td>...</td>\n",
       "      <td>rwd</td>\n",
       "      <td>NaN</td>\n",
       "      <td>sedan</td>\n",
       "      <td>grey</td>\n",
       "      <td>https://images.craigslist.org/00U0U_3cLk0WGOJ8...</td>\n",
       "      <td>Selling my 2014 BMW 328i with the following be...</td>\n",
       "      <td>NaN</td>\n",
       "      <td>or</td>\n",
       "      <td>46.1837</td>\n",
       "      <td>-123.8240</td>\n",
       "    </tr>\n",
       "    <tr>\n",
       "      <th>2</th>\n",
       "      <td>7115048251</td>\n",
       "      <td>https://greenville.craigslist.org/cto/d/sparta...</td>\n",
       "      <td>greenville / upstate</td>\n",
       "      <td>https://greenville.craigslist.org</td>\n",
       "      <td>2300</td>\n",
       "      <td>2001.0</td>\n",
       "      <td>dodge</td>\n",
       "      <td>caravan</td>\n",
       "      <td>excellent</td>\n",
       "      <td>6 cylinders</td>\n",
       "      <td>...</td>\n",
       "      <td>NaN</td>\n",
       "      <td>NaN</td>\n",
       "      <td>NaN</td>\n",
       "      <td>NaN</td>\n",
       "      <td>https://images.craigslist.org/00k0k_t4WqYn5nDC...</td>\n",
       "      <td>01 DODGE CARAVAN,3.3 ENGINE,AUT TRANS,199000 M...</td>\n",
       "      <td>NaN</td>\n",
       "      <td>sc</td>\n",
       "      <td>34.9352</td>\n",
       "      <td>-81.9654</td>\n",
       "    </tr>\n",
       "    <tr>\n",
       "      <th>3</th>\n",
       "      <td>7119250502</td>\n",
       "      <td>https://mohave.craigslist.org/cto/d/lake-havas...</td>\n",
       "      <td>mohave county</td>\n",
       "      <td>https://mohave.craigslist.org</td>\n",
       "      <td>9000</td>\n",
       "      <td>2004.0</td>\n",
       "      <td>chevrolet</td>\n",
       "      <td>colorado ls</td>\n",
       "      <td>excellent</td>\n",
       "      <td>5 cylinders</td>\n",
       "      <td>...</td>\n",
       "      <td>rwd</td>\n",
       "      <td>mid-size</td>\n",
       "      <td>pickup</td>\n",
       "      <td>red</td>\n",
       "      <td>https://images.craigslist.org/00J0J_lJEzfeVLHI...</td>\n",
       "      <td>2004 Chevy Colorado LS, ONLY 54000 ORIGINAL MI...</td>\n",
       "      <td>NaN</td>\n",
       "      <td>az</td>\n",
       "      <td>34.4783</td>\n",
       "      <td>-114.2710</td>\n",
       "    </tr>\n",
       "    <tr>\n",
       "      <th>4</th>\n",
       "      <td>7120433904</td>\n",
       "      <td>https://maine.craigslist.org/ctd/d/searsport-t...</td>\n",
       "      <td>maine</td>\n",
       "      <td>https://maine.craigslist.org</td>\n",
       "      <td>0</td>\n",
       "      <td>2021.0</td>\n",
       "      <td>NaN</td>\n",
       "      <td>Honda-Nissan-Kia-Ford-Hyundai-VW</td>\n",
       "      <td>NaN</td>\n",
       "      <td>NaN</td>\n",
       "      <td>...</td>\n",
       "      <td>NaN</td>\n",
       "      <td>NaN</td>\n",
       "      <td>NaN</td>\n",
       "      <td>NaN</td>\n",
       "      <td>https://images.craigslist.org/01010_j0IW34mCsm...</td>\n",
       "      <td>CALL: 207.548.6500 TEXT: 207.407.5598  **WE FI...</td>\n",
       "      <td>NaN</td>\n",
       "      <td>me</td>\n",
       "      <td>44.4699</td>\n",
       "      <td>-68.8963</td>\n",
       "    </tr>\n",
       "  </tbody>\n",
       "</table>\n",
       "<p>5 rows × 25 columns</p>\n",
       "</div>"
      ],
      "text/plain": [
       "           id                                                url  \\\n",
       "0  7119256118  https://mohave.craigslist.org/ctd/d/lake-havas...   \n",
       "1  7120880186  https://oregoncoast.craigslist.org/cto/d/warre...   \n",
       "2  7115048251  https://greenville.craigslist.org/cto/d/sparta...   \n",
       "3  7119250502  https://mohave.craigslist.org/cto/d/lake-havas...   \n",
       "4  7120433904  https://maine.craigslist.org/ctd/d/searsport-t...   \n",
       "\n",
       "                 region                          region_url  price    year  \\\n",
       "0         mohave county       https://mohave.craigslist.org   3495  2012.0   \n",
       "1          oregon coast  https://oregoncoast.craigslist.org  13750  2014.0   \n",
       "2  greenville / upstate   https://greenville.craigslist.org   2300  2001.0   \n",
       "3         mohave county       https://mohave.craigslist.org   9000  2004.0   \n",
       "4                 maine        https://maine.craigslist.org      0  2021.0   \n",
       "\n",
       "  manufacturer                             model  condition    cylinders  ...  \\\n",
       "0         jeep                           patriot   like new  4 cylinders  ...   \n",
       "1          bmw                      328i m-sport       good          NaN  ...   \n",
       "2        dodge                           caravan  excellent  6 cylinders  ...   \n",
       "3    chevrolet                       colorado ls  excellent  5 cylinders  ...   \n",
       "4          NaN  Honda-Nissan-Kia-Ford-Hyundai-VW        NaN          NaN  ...   \n",
       "\n",
       "  drive      size    type paint_color  \\\n",
       "0   NaN       NaN     NaN      silver   \n",
       "1   rwd       NaN   sedan        grey   \n",
       "2   NaN       NaN     NaN         NaN   \n",
       "3   rwd  mid-size  pickup         red   \n",
       "4   NaN       NaN     NaN         NaN   \n",
       "\n",
       "                                           image_url  \\\n",
       "0  https://images.craigslist.org/00B0B_k2AXIJ21ok...   \n",
       "1  https://images.craigslist.org/00U0U_3cLk0WGOJ8...   \n",
       "2  https://images.craigslist.org/00k0k_t4WqYn5nDC...   \n",
       "3  https://images.craigslist.org/00J0J_lJEzfeVLHI...   \n",
       "4  https://images.craigslist.org/01010_j0IW34mCsm...   \n",
       "\n",
       "                                         description county state      lat  \\\n",
       "0  THIS 2012 JEEP PATRIOT IS A 4CYL. AC, STEREO, ...    NaN    az  34.4554   \n",
       "1  Selling my 2014 BMW 328i with the following be...    NaN    or  46.1837   \n",
       "2  01 DODGE CARAVAN,3.3 ENGINE,AUT TRANS,199000 M...    NaN    sc  34.9352   \n",
       "3  2004 Chevy Colorado LS, ONLY 54000 ORIGINAL MI...    NaN    az  34.4783   \n",
       "4  CALL: 207.548.6500 TEXT: 207.407.5598  **WE FI...    NaN    me  44.4699   \n",
       "\n",
       "       long  \n",
       "0 -114.2690  \n",
       "1 -123.8240  \n",
       "2  -81.9654  \n",
       "3 -114.2710  \n",
       "4  -68.8963  \n",
       "\n",
       "[5 rows x 25 columns]"
      ]
     },
     "execution_count": 3,
     "metadata": {},
     "output_type": "execute_result"
    }
   ],
   "source": [
    "cars.head()"
   ]
  },
  {
   "cell_type": "code",
   "execution_count": 4,
   "metadata": {},
   "outputs": [
    {
     "data": {
      "text/plain": [
       "Index(['id', 'url', 'region', 'region_url', 'price', 'year', 'manufacturer',\n",
       "       'model', 'condition', 'cylinders', 'fuel', 'odometer', 'title_status',\n",
       "       'transmission', 'vin', 'drive', 'size', 'type', 'paint_color',\n",
       "       'image_url', 'description', 'county', 'state', 'lat', 'long'],\n",
       "      dtype='object')"
      ]
     },
     "execution_count": 4,
     "metadata": {},
     "output_type": "execute_result"
    }
   ],
   "source": [
    "cars.columns"
   ]
  },
  {
   "cell_type": "code",
   "execution_count": 5,
   "metadata": {},
   "outputs": [
    {
     "name": "stdout",
     "output_type": "stream",
     "text": [
      "(Rows, Columns): (435849, 25)\n"
     ]
    }
   ],
   "source": [
    "print('(Rows, Columns): '+str(cars.shape))"
   ]
  },
  {
   "cell_type": "code",
   "execution_count": 6,
   "metadata": {},
   "outputs": [
    {
     "data": {
      "text/html": [
       "<div>\n",
       "<style scoped>\n",
       "    .dataframe tbody tr th:only-of-type {\n",
       "        vertical-align: middle;\n",
       "    }\n",
       "\n",
       "    .dataframe tbody tr th {\n",
       "        vertical-align: top;\n",
       "    }\n",
       "\n",
       "    .dataframe thead th {\n",
       "        text-align: right;\n",
       "    }\n",
       "</style>\n",
       "<table border=\"1\" class=\"dataframe\">\n",
       "  <thead>\n",
       "    <tr style=\"text-align: right;\">\n",
       "      <th></th>\n",
       "      <th>id</th>\n",
       "      <th>price</th>\n",
       "      <th>year</th>\n",
       "      <th>odometer</th>\n",
       "      <th>county</th>\n",
       "      <th>lat</th>\n",
       "      <th>long</th>\n",
       "    </tr>\n",
       "  </thead>\n",
       "  <tbody>\n",
       "    <tr>\n",
       "      <th>count</th>\n",
       "      <td>435849</td>\n",
       "      <td>435849</td>\n",
       "      <td>434732</td>\n",
       "      <td>360701</td>\n",
       "      <td>0</td>\n",
       "      <td>427614</td>\n",
       "      <td>427614</td>\n",
       "    </tr>\n",
       "    <tr>\n",
       "      <th>mean</th>\n",
       "      <td>7.11595e+09</td>\n",
       "      <td>134913</td>\n",
       "      <td>2009.87</td>\n",
       "      <td>98975.9</td>\n",
       "      <td>nan</td>\n",
       "      <td>38.4042</td>\n",
       "      <td>-94.9612</td>\n",
       "    </tr>\n",
       "    <tr>\n",
       "      <th>std</th>\n",
       "      <td>4.59085e+06</td>\n",
       "      <td>1.69086e+07</td>\n",
       "      <td>9.3125</td>\n",
       "      <td>113499</td>\n",
       "      <td>nan</td>\n",
       "      <td>6.03692</td>\n",
       "      <td>18.0586</td>\n",
       "    </tr>\n",
       "    <tr>\n",
       "      <th>min</th>\n",
       "      <td>7.09658e+09</td>\n",
       "      <td>0</td>\n",
       "      <td>1900</td>\n",
       "      <td>0</td>\n",
       "      <td>nan</td>\n",
       "      <td>-83.1971</td>\n",
       "      <td>-177.012</td>\n",
       "    </tr>\n",
       "    <tr>\n",
       "      <th>25%</th>\n",
       "      <td>7.11245e+09</td>\n",
       "      <td>4900</td>\n",
       "      <td>2007</td>\n",
       "      <td>47333</td>\n",
       "      <td>nan</td>\n",
       "      <td>34.2257</td>\n",
       "      <td>-111.731</td>\n",
       "    </tr>\n",
       "    <tr>\n",
       "      <th>50%</th>\n",
       "      <td>7.11709e+09</td>\n",
       "      <td>9995</td>\n",
       "      <td>2012</td>\n",
       "      <td>91188</td>\n",
       "      <td>nan</td>\n",
       "      <td>38.9348</td>\n",
       "      <td>-89.6767</td>\n",
       "    </tr>\n",
       "    <tr>\n",
       "      <th>75%</th>\n",
       "      <td>7.12009e+09</td>\n",
       "      <td>17989</td>\n",
       "      <td>2015</td>\n",
       "      <td>134736</td>\n",
       "      <td>nan</td>\n",
       "      <td>42.4845</td>\n",
       "      <td>-81.3973</td>\n",
       "    </tr>\n",
       "    <tr>\n",
       "      <th>max</th>\n",
       "      <td>7.12161e+09</td>\n",
       "      <td>3.64726e+09</td>\n",
       "      <td>2021</td>\n",
       "      <td>1e+07</td>\n",
       "      <td>nan</td>\n",
       "      <td>79.6019</td>\n",
       "      <td>173.675</td>\n",
       "    </tr>\n",
       "  </tbody>\n",
       "</table>\n",
       "</div>"
      ],
      "text/plain": [
       "                id        price     year odometer county       lat      long\n",
       "count       435849       435849   434732   360701      0    427614    427614\n",
       "mean   7.11595e+09       134913  2009.87  98975.9    nan   38.4042  -94.9612\n",
       "std    4.59085e+06  1.69086e+07   9.3125   113499    nan   6.03692   18.0586\n",
       "min    7.09658e+09            0     1900        0    nan  -83.1971  -177.012\n",
       "25%    7.11245e+09         4900     2007    47333    nan   34.2257  -111.731\n",
       "50%    7.11709e+09         9995     2012    91188    nan   38.9348  -89.6767\n",
       "75%    7.12009e+09        17989     2015   134736    nan   42.4845  -81.3973\n",
       "max    7.12161e+09  3.64726e+09     2021    1e+07    nan   79.6019   173.675"
      ]
     },
     "execution_count": 6,
     "metadata": {},
     "output_type": "execute_result"
    }
   ],
   "source": [
    "cars.describe().apply(lambda s: s.apply(lambda x: format(x, 'g')))\n",
    "# seems like there are outliers for price and odometer"
   ]
  },
  {
   "cell_type": "code",
   "execution_count": 7,
   "metadata": {},
   "outputs": [
    {
     "name": "stdout",
     "output_type": "stream",
     "text": [
      "<class 'pandas.core.frame.DataFrame'>\n",
      "RangeIndex: 435849 entries, 0 to 435848\n",
      "Data columns (total 25 columns):\n",
      " #   Column        Non-Null Count   Dtype  \n",
      "---  ------        --------------   -----  \n",
      " 0   id            435849 non-null  int64  \n",
      " 1   url           435849 non-null  object \n",
      " 2   region        435849 non-null  object \n",
      " 3   region_url    435849 non-null  object \n",
      " 4   price         435849 non-null  int64  \n",
      " 5   year          434732 non-null  float64\n",
      " 6   manufacturer  415102 non-null  object \n",
      " 7   model         429650 non-null  object \n",
      " 8   condition     249043 non-null  object \n",
      " 9   cylinders     269465 non-null  object \n",
      " 10  fuel          432858 non-null  object \n",
      " 11  odometer      360701 non-null  float64\n",
      " 12  title_status  434043 non-null  object \n",
      " 13  transmission  433703 non-null  object \n",
      " 14  vin           239197 non-null  object \n",
      " 15  drive         313838 non-null  object \n",
      " 16  size          139888 non-null  object \n",
      " 17  type          318741 non-null  object \n",
      " 18  paint_color   300602 non-null  object \n",
      " 19  image_url     435825 non-null  object \n",
      " 20  description   435822 non-null  object \n",
      " 21  county        0 non-null       float64\n",
      " 22  state         435849 non-null  object \n",
      " 23  lat           427614 non-null  float64\n",
      " 24  long          427614 non-null  float64\n",
      "dtypes: float64(5), int64(2), object(18)\n",
      "memory usage: 83.1+ MB\n"
     ]
    }
   ],
   "source": [
    "cars.info()"
   ]
  },
  {
   "cell_type": "code",
   "execution_count": 8,
   "metadata": {},
   "outputs": [
    {
     "data": {
      "text/plain": [
       "id                   0\n",
       "url                  0\n",
       "region               0\n",
       "region_url           0\n",
       "price                0\n",
       "year              1117\n",
       "manufacturer     20747\n",
       "model             6199\n",
       "condition       186806\n",
       "cylinders       166384\n",
       "fuel              2991\n",
       "odometer         75148\n",
       "title_status      1806\n",
       "transmission      2146\n",
       "vin             196652\n",
       "drive           122011\n",
       "size            295961\n",
       "type            117108\n",
       "paint_color     135247\n",
       "image_url           24\n",
       "description         27\n",
       "county          435849\n",
       "state                0\n",
       "lat               8235\n",
       "long              8235\n",
       "dtype: int64"
      ]
     },
     "execution_count": 8,
     "metadata": {},
     "output_type": "execute_result"
    }
   ],
   "source": [
    "# checkig for the amount of null values\n",
    "nan_count = cars.isnull().sum()\n",
    "nan_count"
   ]
  },
  {
   "cell_type": "code",
   "execution_count": 9,
   "metadata": {
    "scrolled": false
   },
   "outputs": [
    {
     "data": {
      "text/plain": [
       "county          100.000000\n",
       "size             67.904481\n",
       "vin              45.119296\n",
       "condition        42.860257\n",
       "cylinders        38.174689\n",
       "paint_color      31.030701\n",
       "drive            27.993869\n",
       "type             26.868939\n",
       "odometer         17.241751\n",
       "manufacturer      4.760135\n",
       "long              1.889416\n",
       "lat               1.889416\n",
       "model             1.422282\n",
       "fuel              0.686247\n",
       "transmission      0.492372\n",
       "title_status      0.414364\n",
       "year              0.256281\n",
       "description       0.006195\n",
       "image_url         0.005506\n",
       "state             0.000000\n",
       "price             0.000000\n",
       "region_url        0.000000\n",
       "region            0.000000\n",
       "url               0.000000\n",
       "id                0.000000\n",
       "dtype: float64"
      ]
     },
     "execution_count": 9,
     "metadata": {},
     "output_type": "execute_result"
    }
   ],
   "source": [
    "# converting null count into percentage\n",
    "cars.isnull().mean().sort_values(ascending=False)*100"
   ]
  },
  {
   "cell_type": "code",
   "execution_count": 10,
   "metadata": {},
   "outputs": [],
   "source": [
    "# dropping columns not needed for analysis \n",
    "cars.drop(['id','url','region_url','image_url','description','vin'], axis=1, inplace=True)\n",
    "\n",
    "# dropping columns with over 40% null values \n",
    "# (condition was kept as it could portray useful info despite high amount of nulls)\n",
    "cars.drop(['county','size'], axis=1, inplace=True)\n",
    "\n",
    "# since columns lat, long, region, state all represent location, I chose to include only state to avoid extensive categorical encoding\n",
    "cars.drop(['lat','long','region'], axis=1, inplace=True)"
   ]
  },
  {
   "cell_type": "code",
   "execution_count": 11,
   "metadata": {},
   "outputs": [],
   "source": [
    "# dropping rows containing null values when the respective \n",
    "# column in question has null percentage less than 5%\n",
    "cars.dropna(subset=['manufacturer','model','fuel','transmission','title_status','year'],inplace=True)"
   ]
  },
  {
   "cell_type": "code",
   "execution_count": 12,
   "metadata": {},
   "outputs": [
    {
     "data": {
      "text/plain": [
       "Index(['price', 'year', 'manufacturer', 'model', 'condition', 'cylinders',\n",
       "       'fuel', 'odometer', 'title_status', 'transmission', 'drive', 'type',\n",
       "       'paint_color', 'state'],\n",
       "      dtype='object')"
      ]
     },
     "execution_count": 12,
     "metadata": {},
     "output_type": "execute_result"
    }
   ],
   "source": [
    "# checking remaining columns\n",
    "cars.columns"
   ]
  },
  {
   "cell_type": "code",
   "execution_count": 13,
   "metadata": {},
   "outputs": [
    {
     "data": {
      "text/plain": [
       "price                0\n",
       "year                 0\n",
       "manufacturer         0\n",
       "model                0\n",
       "condition       168820\n",
       "cylinders       150764\n",
       "fuel                 0\n",
       "odometer         64758\n",
       "title_status         0\n",
       "transmission         0\n",
       "drive           108319\n",
       "type            104806\n",
       "paint_color     121910\n",
       "state                0\n",
       "dtype: int64"
      ]
     },
     "execution_count": 13,
     "metadata": {},
     "output_type": "execute_result"
    }
   ],
   "source": [
    "# checking remaining null values to be dealt with\n",
    "cars.isnull().sum()"
   ]
  },
  {
   "cell_type": "code",
   "execution_count": 14,
   "metadata": {},
   "outputs": [
    {
     "data": {
      "text/html": [
       "<div>\n",
       "<style scoped>\n",
       "    .dataframe tbody tr th:only-of-type {\n",
       "        vertical-align: middle;\n",
       "    }\n",
       "\n",
       "    .dataframe tbody tr th {\n",
       "        vertical-align: top;\n",
       "    }\n",
       "\n",
       "    .dataframe thead th {\n",
       "        text-align: right;\n",
       "    }\n",
       "</style>\n",
       "<table border=\"1\" class=\"dataframe\">\n",
       "  <thead>\n",
       "    <tr style=\"text-align: right;\">\n",
       "      <th></th>\n",
       "      <th>price</th>\n",
       "      <th>year</th>\n",
       "      <th>odometer</th>\n",
       "    </tr>\n",
       "  </thead>\n",
       "  <tbody>\n",
       "    <tr>\n",
       "      <th>count</th>\n",
       "      <td>390521.000000</td>\n",
       "      <td>390521.000000</td>\n",
       "      <td>3.271680e+05</td>\n",
       "    </tr>\n",
       "    <tr>\n",
       "      <th>mean</th>\n",
       "      <td>11507.074344</td>\n",
       "      <td>2010.148135</td>\n",
       "      <td>1.001116e+05</td>\n",
       "    </tr>\n",
       "    <tr>\n",
       "      <th>std</th>\n",
       "      <td>8754.140703</td>\n",
       "      <td>8.234406</td>\n",
       "      <td>1.066525e+05</td>\n",
       "    </tr>\n",
       "    <tr>\n",
       "      <th>min</th>\n",
       "      <td>0.000000</td>\n",
       "      <td>1900.000000</td>\n",
       "      <td>0.000000e+00</td>\n",
       "    </tr>\n",
       "    <tr>\n",
       "      <th>25%</th>\n",
       "      <td>4800.000000</td>\n",
       "      <td>2007.000000</td>\n",
       "      <td>5.075500e+04</td>\n",
       "    </tr>\n",
       "    <tr>\n",
       "      <th>50%</th>\n",
       "      <td>9702.000000</td>\n",
       "      <td>2012.000000</td>\n",
       "      <td>9.357300e+04</td>\n",
       "    </tr>\n",
       "    <tr>\n",
       "      <th>75%</th>\n",
       "      <td>16900.000000</td>\n",
       "      <td>2015.000000</td>\n",
       "      <td>1.360000e+05</td>\n",
       "    </tr>\n",
       "    <tr>\n",
       "      <th>max</th>\n",
       "      <td>37303.000000</td>\n",
       "      <td>2021.000000</td>\n",
       "      <td>1.000000e+07</td>\n",
       "    </tr>\n",
       "  </tbody>\n",
       "</table>\n",
       "</div>"
      ],
      "text/plain": [
       "               price           year      odometer\n",
       "count  390521.000000  390521.000000  3.271680e+05\n",
       "mean    11507.074344    2010.148135  1.001116e+05\n",
       "std      8754.140703       8.234406  1.066525e+05\n",
       "min         0.000000    1900.000000  0.000000e+00\n",
       "25%      4800.000000    2007.000000  5.075500e+04\n",
       "50%      9702.000000    2012.000000  9.357300e+04\n",
       "75%     16900.000000    2015.000000  1.360000e+05\n",
       "max     37303.000000    2021.000000  1.000000e+07"
      ]
     },
     "execution_count": 14,
     "metadata": {},
     "output_type": "execute_result"
    }
   ],
   "source": [
    "# from previous descirbe() we saw outliers which will be dealt using the 1.5*IQR rule\n",
    "def treat_outlier(col):\n",
    "    sorted(col)\n",
    "    q1,q3 = np.percentile(col, [25,75])\n",
    "    IQR = q3 - q1\n",
    "    lower_bound = q1 - (1.5*IQR)\n",
    "    upper_bound = q3 + (1.5*IQR)\n",
    "    return lower_bound, upper_bound\n",
    "\n",
    "# remove price outliers\n",
    "plb,pub = treat_outlier(cars['price'])\n",
    "# query df with price outliers removed\n",
    "cars_new = cars.query('@plb <= price <= @pub')\n",
    "cars_new.describe()"
   ]
  },
  {
   "cell_type": "code",
   "execution_count": 15,
   "metadata": {},
   "outputs": [
    {
     "name": "stderr",
     "output_type": "stream",
     "text": [
      "C:\\Users\\tsfan\\anaconda3\\lib\\site-packages\\pandas\\core\\generic.py:6245: SettingWithCopyWarning: \n",
      "A value is trying to be set on a copy of a slice from a DataFrame\n",
      "\n",
      "See the caveats in the documentation: https://pandas.pydata.org/pandas-docs/stable/user_guide/indexing.html#returning-a-view-versus-a-copy\n",
      "  self._update_inplace(new_data)\n"
     ]
    },
    {
     "data": {
      "image/png": "[encoded data removed]",
      "text/plain": [
       "<Figure size 432x288 with 1 Axes>"
      ]
     },
     "metadata": {
      "needs_background": "light"
     },
     "output_type": "display_data"
    }
   ],
   "source": [
    "# Treating outlier for odometer\n",
    "cars_new['odometer'].fillna(value=cars_new['odometer'].median(), inplace=True)\n",
    "ax = sns.scatterplot(x='odometer',y='price',data=cars_new)\n",
    "ax.get_xaxis().get_major_formatter()\n",
    "ax.get_yaxis().get_major_formatter()\n",
    "olb,oub = treat_outlier(cars_new['odometer'])\n",
    "cars_new = cars_new.query('@olb <= odometer <= @oub')"
   ]
  },
  {
   "cell_type": "code",
   "execution_count": 16,
   "metadata": {},
   "outputs": [
    {
     "data": {
      "text/html": [
       "<div>\n",
       "<style scoped>\n",
       "    .dataframe tbody tr th:only-of-type {\n",
       "        vertical-align: middle;\n",
       "    }\n",
       "\n",
       "    .dataframe tbody tr th {\n",
       "        vertical-align: top;\n",
       "    }\n",
       "\n",
       "    .dataframe thead th {\n",
       "        text-align: right;\n",
       "    }\n",
       "</style>\n",
       "<table border=\"1\" class=\"dataframe\">\n",
       "  <thead>\n",
       "    <tr style=\"text-align: right;\">\n",
       "      <th></th>\n",
       "      <th>price</th>\n",
       "      <th>year</th>\n",
       "      <th>odometer</th>\n",
       "    </tr>\n",
       "  </thead>\n",
       "  <tbody>\n",
       "    <tr>\n",
       "      <th>count</th>\n",
       "      <td>382122.000000</td>\n",
       "      <td>382122.000000</td>\n",
       "      <td>382122.000000</td>\n",
       "    </tr>\n",
       "    <tr>\n",
       "      <th>mean</th>\n",
       "      <td>11613.761864</td>\n",
       "      <td>2010.285731</td>\n",
       "      <td>93734.117274</td>\n",
       "    </tr>\n",
       "    <tr>\n",
       "      <th>std</th>\n",
       "      <td>8780.623688</td>\n",
       "      <td>8.216335</td>\n",
       "      <td>48856.127373</td>\n",
       "    </tr>\n",
       "    <tr>\n",
       "      <th>min</th>\n",
       "      <td>0.000000</td>\n",
       "      <td>1900.000000</td>\n",
       "      <td>0.000000</td>\n",
       "    </tr>\n",
       "    <tr>\n",
       "      <th>25%</th>\n",
       "      <td>4900.000000</td>\n",
       "      <td>2007.000000</td>\n",
       "      <td>58901.000000</td>\n",
       "    </tr>\n",
       "    <tr>\n",
       "      <th>50%</th>\n",
       "      <td>9900.000000</td>\n",
       "      <td>2012.000000</td>\n",
       "      <td>93573.000000</td>\n",
       "    </tr>\n",
       "    <tr>\n",
       "      <th>75%</th>\n",
       "      <td>16990.000000</td>\n",
       "      <td>2015.000000</td>\n",
       "      <td>123270.000000</td>\n",
       "    </tr>\n",
       "    <tr>\n",
       "      <th>max</th>\n",
       "      <td>37303.000000</td>\n",
       "      <td>2021.000000</td>\n",
       "      <td>227328.000000</td>\n",
       "    </tr>\n",
       "  </tbody>\n",
       "</table>\n",
       "</div>"
      ],
      "text/plain": [
       "               price           year       odometer\n",
       "count  382122.000000  382122.000000  382122.000000\n",
       "mean    11613.761864    2010.285731   93734.117274\n",
       "std      8780.623688       8.216335   48856.127373\n",
       "min         0.000000    1900.000000       0.000000\n",
       "25%      4900.000000    2007.000000   58901.000000\n",
       "50%      9900.000000    2012.000000   93573.000000\n",
       "75%     16990.000000    2015.000000  123270.000000\n",
       "max     37303.000000    2021.000000  227328.000000"
      ]
     },
     "execution_count": 16,
     "metadata": {},
     "output_type": "execute_result"
    }
   ],
   "source": [
    "cars_new.describe()"
   ]
  },
  {
   "cell_type": "code",
   "execution_count": 17,
   "metadata": {},
   "outputs": [
    {
     "data": {
      "text/plain": [
       "price           0\n",
       "year            0\n",
       "manufacturer    0\n",
       "model           0\n",
       "condition       0\n",
       "cylinders       0\n",
       "fuel            0\n",
       "odometer        0\n",
       "title_status    0\n",
       "transmission    0\n",
       "drive           0\n",
       "type            0\n",
       "state           0\n",
       "dtype: int64"
      ]
     },
     "execution_count": 17,
     "metadata": {},
     "output_type": "execute_result"
    }
   ],
   "source": [
    "# paint color likely won't be an influential factor in determining price\n",
    "cars_new.drop(['paint_color'],axis=1,inplace=True)\n",
    "\n",
    "# use mode to impute categorical\n",
    "categorical = ['condition', 'cylinders','drive','type']\n",
    "for col in categorical:\n",
    "    cars_new[col] = cars_new[col].fillna(cars_new['condition'].mode()[0])\n",
    "cars_new.isnull().sum()\n"
   ]
  },
  {
   "cell_type": "code",
   "execution_count": 18,
   "metadata": {},
   "outputs": [
    {
     "data": {
      "text/plain": [
       "price           13720\n",
       "year              105\n",
       "manufacturer       42\n",
       "model           23825\n",
       "condition           6\n",
       "cylinders           9\n",
       "fuel                5\n",
       "odometer        99437\n",
       "title_status        6\n",
       "transmission        3\n",
       "drive               4\n",
       "type               14\n",
       "state              51\n",
       "dtype: int64"
      ]
     },
     "execution_count": 18,
     "metadata": {},
     "output_type": "execute_result"
    }
   ],
   "source": [
    "cars_new.nunique()"
   ]
  },
  {
   "cell_type": "code",
   "execution_count": 19,
   "metadata": {},
   "outputs": [],
   "source": [
    "# car model designation likely won't have a big influence\n",
    "cars_new = cars_new.drop(['model'], axis=1)"
   ]
  },
  {
   "cell_type": "code",
   "execution_count": 20,
   "metadata": {},
   "outputs": [
    {
     "name": "stdout",
     "output_type": "stream",
     "text": [
      "Index(['price', 'year', 'odometer', 'manufacturer_alfa-romeo',\n",
      "       'manufacturer_aston-martin', 'manufacturer_audi', 'manufacturer_bmw',\n",
      "       'manufacturer_buick', 'manufacturer_cadillac', 'manufacturer_chevrolet',\n",
      "       ...\n",
      "       'state_sd', 'state_tn', 'state_tx', 'state_ut', 'state_va', 'state_vt',\n",
      "       'state_wa', 'state_wi', 'state_wv', 'state_wy'],\n",
      "      dtype='object', length=134)\n"
     ]
    }
   ],
   "source": [
    "# one-hot encoding categorical variables\n",
    "cars_new = pd.get_dummies(cars_new, drop_first=True)\n",
    "print(cars_new.columns)"
   ]
  },
  {
   "cell_type": "code",
   "execution_count": 21,
   "metadata": {},
   "outputs": [],
   "source": [
    "# importing metrics and train/test split along with standardizing X\n",
    "from sklearn.metrics import mean_absolute_error as mae\n",
    "from sklearn.metrics import mean_squared_error as mse\n",
    "from sklearn.metrics import r2_score\n",
    "from sklearn.model_selection import train_test_split, GridSearchCV, RandomizedSearchCV\n",
    "from sklearn.preprocessing import StandardScaler\n",
    "\n",
    "X = cars_new.loc[:, cars_new.columns != 'price']\n",
    "y = cars_new['price']\n",
    "\n",
    "X_train, X_test, y_train, y_test = train_test_split(X, y, test_size = 0.2, random_state=7)\n",
    "\n",
    "sc = StandardScaler()\n",
    "X_train = sc.fit_transform(X_train)\n",
    "X_test = sc.transform(X_test)"
   ]
  },
  {
   "cell_type": "code",
   "execution_count": 22,
   "metadata": {},
   "outputs": [
    {
     "name": "stdout",
     "output_type": "stream",
     "text": [
      "MAE:  2774.9410242166914\n",
      "RMSE:  5510.973354336607\n",
      "R-squared Score:  0.6063624679313115\n"
     ]
    }
   ],
   "source": [
    "# Model 1: Decision Tree Regressor\n",
    "\n",
    "from sklearn.tree import DecisionTreeRegressor\n",
    "\n",
    "tree = DecisionTreeRegressor(random_state=7)\n",
    "tree.fit(X_train, y_train)\n",
    "tree_pred = tree.predict(X_test)\n",
    "print('MAE: ', mae(y_test, tree_pred))\n",
    "print('RMSE: ', np.sqrt(mse(y_test, tree_pred)))\n",
    "print('R-squared Score: ', r2_score(y_test, tree_pred))"
   ]
  },
  {
   "cell_type": "code",
   "execution_count": 23,
   "metadata": {},
   "outputs": [
    {
     "name": "stdout",
     "output_type": "stream",
     "text": [
      "MAE:  2432.921711636441\n",
      "RMSE:  4354.0398463533875\n",
      "R-squared Score:  0.7542889565057197\n"
     ]
    }
   ],
   "source": [
    "# Model 2: Random Forest Regressor\n",
    "\n",
    "from sklearn.ensemble import RandomForestRegressor\n",
    "\n",
    "forest = RandomForestRegressor(random_state=7, n_jobs=-1)\n",
    "forest.fit(X_train, y_train)\n",
    "forest_pred = forest.predict(X_test)\n",
    "print('MAE: ', mae(y_test, forest_pred))\n",
    "print('RMSE: ', np.sqrt(mse(y_test, forest_pred)))\n",
    "print('R-squared Score: ', r2_score(y_test, forest_pred))"
   ]
  },
  {
   "cell_type": "code",
   "execution_count": 24,
   "metadata": {},
   "outputs": [],
   "source": [
    "# Model 2 - Parameter Tuning\n",
    "\n",
    "param_rf = {\n",
    "    'n_estimators': [64,128,300],\n",
    "    'max_depth': [7,15,31,63,99],\n",
    "    'min_samples_leaf': [1,2,4,8,12],\n",
    "    'min_samples_split':[2,4,8,12],\n",
    "    'max_samples':[0.5,0.75,1],\n",
    "    'max_features':['sqrt','log2',0.2,0.3,0.4],\n",
    "    'bootstrap': [True, False]\n",
    "}\n",
    "\n",
    "# using randomized search to save time\n",
    "rs_rf = RandomizedSearchCV(forest, param_distributions=param_rf, scoring='neg_root_mean_squared_error',cv=3,n_jobs=-1,verbose=10)"
   ]
  },
  {
   "cell_type": "code",
   "execution_count": 25,
   "metadata": {},
   "outputs": [
    {
     "name": "stdout",
     "output_type": "stream",
     "text": [
      "Fitting 3 folds for each of 10 candidates, totalling 30 fits\n"
     ]
    },
    {
     "name": "stderr",
     "output_type": "stream",
     "text": [
      "[Parallel(n_jobs=-1)]: Using backend LokyBackend with 8 concurrent workers.\n",
      "[Parallel(n_jobs=-1)]: Done   2 tasks      | elapsed:  1.0min\n",
      "[Parallel(n_jobs=-1)]: Done   9 tasks      | elapsed:  6.0min\n",
      "[Parallel(n_jobs=-1)]: Done  19 out of  30 | elapsed: 17.3min remaining: 10.0min\n",
      "[Parallel(n_jobs=-1)]: Done  23 out of  30 | elapsed: 18.2min remaining:  5.5min\n",
      "[Parallel(n_jobs=-1)]: Done  27 out of  30 | elapsed: 19.7min remaining:  2.2min\n",
      "[Parallel(n_jobs=-1)]: Done  30 out of  30 | elapsed: 20.2min finished\n"
     ]
    },
    {
     "data": {
      "text/plain": [
       "{'n_estimators': 300,\n",
       " 'min_samples_split': 8,\n",
       " 'min_samples_leaf': 12,\n",
       " 'max_samples': 0.5,\n",
       " 'max_features': 0.4,\n",
       " 'max_depth': 99,\n",
       " 'bootstrap': False}"
      ]
     },
     "execution_count": 25,
     "metadata": {},
     "output_type": "execute_result"
    }
   ],
   "source": [
    "rs_rf.fit(X_train,y_train)\n",
    "rs_rf.best_params_"
   ]
  },
  {
   "cell_type": "code",
   "execution_count": 26,
   "metadata": {},
   "outputs": [
    {
     "name": "stdout",
     "output_type": "stream",
     "text": [
      "MAE:  2262.034326384679\n",
      "RMSE:  4214.357383820057\n",
      "R-squared Score:  0.7698014407309159\n"
     ]
    }
   ],
   "source": [
    "# Model 2 Tuned\n",
    "\n",
    "forest2 = RandomForestRegressor(random_state=7, \n",
    "                                n_jobs=-1,\n",
    "                                n_estimators=128,\n",
    "                                min_samples_split=4,\n",
    "                                min_samples_leaf=1,\n",
    "                                max_samples=0.75,\n",
    "                                max_features=0.3,\n",
    "                                max_depth=63,\n",
    "                                bootstrap=False\n",
    "                               )\n",
    "forest2.fit(X_train, y_train)\n",
    "forest_pred2 = forest2.predict(X_test)\n",
    "print('MAE: ', mae(y_test, forest_pred2))\n",
    "print('RMSE: ', np.sqrt(mse(y_test, forest_pred2)))\n",
    "print('R-squared Score: ', r2_score(y_test, forest_pred2))"
   ]
  },
  {
   "cell_type": "code",
   "execution_count": 27,
   "metadata": {},
   "outputs": [
    {
     "name": "stdout",
     "output_type": "stream",
     "text": [
      "MAE:  5012.121187398594\n",
      "RMSE:  6925.491251222703\n",
      "R-squared Score:  0.37835699971711734\n"
     ]
    }
   ],
   "source": [
    "# Model 3: Linear Regression\n",
    "\n",
    "from sklearn.linear_model import LinearRegression\n",
    "lireg = LinearRegression()\n",
    "lireg.fit(X_train, y_train)\n",
    "lireg_pred = lireg.predict(X_test)\n",
    "print('MAE: ', mae(y_test, lireg_pred))\n",
    "print('RMSE: ', np.sqrt(mse(y_test, lireg_pred)))\n",
    "print('R-squared Score: ', r2_score(y_test, lireg_pred))"
   ]
  },
  {
   "cell_type": "code",
   "execution_count": 28,
   "metadata": {},
   "outputs": [
    {
     "name": "stdout",
     "output_type": "stream",
     "text": [
      "MAE:  3646.033277631478\n",
      "RMSE:  5489.293092720192\n",
      "R-squared Score:  0.6094535291127601\n"
     ]
    }
   ],
   "source": [
    "# Model 4: XGBoost Regression\n",
    "\n",
    "import xgboost as xgb\n",
    "xgb_reg = xgb.XGBRegressor(random_state=7,tree_method='gpu_hist')\n",
    "xgb_reg.fit(X_train, y_train)\n",
    "xgb_pred = xgb_reg.predict(X_test)\n",
    "print('MAE: ', mae(y_test, xgb_pred))\n",
    "print('RMSE: ', np.sqrt(mse(y_test, xgb_pred)))\n",
    "print('R-squared Score: ', r2_score(y_test, xgb_pred))"
   ]
  },
  {
   "cell_type": "code",
   "execution_count": 29,
   "metadata": {},
   "outputs": [],
   "source": [
    "# Model 4 - Parameter Tuning\n",
    "\n",
    "param_xgb = {\n",
    "    'learning_rate': [0.01,0.05,0.1,0.2],\n",
    "    'n_estimators': [100,200],\n",
    "    'max_depth': [2,4,7,10,15,21],\n",
    "    'subsample': [0.5,0.7,0.9],\n",
    "    'colsample_bytree':[0.3,0.5,0.7,1],\n",
    "    'gamma':[0.1,0.3,0.5,0.7,1,5],\n",
    "    'tree_method':['gpu_hist'],\n",
    "}\n",
    "\n",
    "rs_xgb = RandomizedSearchCV(xgb_reg, param_distributions=param_xgb, scoring='neg_root_mean_squared_error',cv=2,n_jobs=-1,verbose=10)"
   ]
  },
  {
   "cell_type": "code",
   "execution_count": 30,
   "metadata": {},
   "outputs": [
    {
     "name": "stdout",
     "output_type": "stream",
     "text": [
      "Fitting 2 folds for each of 10 candidates, totalling 20 fits\n"
     ]
    },
    {
     "name": "stderr",
     "output_type": "stream",
     "text": [
      "[Parallel(n_jobs=-1)]: Using backend LokyBackend with 8 concurrent workers.\n",
      "[Parallel(n_jobs=-1)]: Done   2 tasks      | elapsed:    8.6s\n",
      "[Parallel(n_jobs=-1)]: Done   8 out of  20 | elapsed:   13.0s remaining:   19.6s\n",
      "[Parallel(n_jobs=-1)]: Done  11 out of  20 | elapsed:   21.0s remaining:   17.1s\n",
      "[Parallel(n_jobs=-1)]: Done  14 out of  20 | elapsed:   21.6s remaining:    9.2s\n",
      "[Parallel(n_jobs=-1)]: Done  17 out of  20 | elapsed:   46.2s remaining:    8.1s\n",
      "[Parallel(n_jobs=-1)]: Done  20 out of  20 | elapsed:   49.4s remaining:    0.0s\n",
      "[Parallel(n_jobs=-1)]: Done  20 out of  20 | elapsed:   49.4s finished\n"
     ]
    },
    {
     "data": {
      "text/plain": [
       "{'tree_method': 'gpu_hist',\n",
       " 'subsample': 0.9,\n",
       " 'n_estimators': 200,\n",
       " 'max_depth': 10,\n",
       " 'learning_rate': 0.1,\n",
       " 'gamma': 0.3,\n",
       " 'colsample_bytree': 0.3}"
      ]
     },
     "execution_count": 30,
     "metadata": {},
     "output_type": "execute_result"
    }
   ],
   "source": [
    "rs_xgb.fit(X_train,y_train)\n",
    "rs_xgb.best_params_"
   ]
  },
  {
   "cell_type": "code",
   "execution_count": 31,
   "metadata": {},
   "outputs": [
    {
     "name": "stdout",
     "output_type": "stream",
     "text": [
      "[21:02:14] WARNING: C:\\Users\\Administrator\\workspace\\xgboost-win64_release_1.2.0\\src\\learner.cc:516: \n",
      "Parameters: { learnig_rate } might not be used.\n",
      "\n",
      "  This may not be accurate due to some parameters are only used in language bindings but\n",
      "  passed down to XGBoost core.  Or some parameters are not used but slip through this\n",
      "  verification. Please open an issue if you find above cases.\n",
      "\n",
      "\n",
      "MAE:  2430.473558961224\n",
      "RMSE:  4344.635597333884\n",
      "R-squared Score:  0.7553492280980045\n"
     ]
    }
   ],
   "source": [
    "# Model 4 Tuned\n",
    "\n",
    "xgb_reg2 = xgb.XGBRegressor(random_state=7,\n",
    "                            subsample=0.9,\n",
    "                            n_estimators=200,\n",
    "                            max_depth=21,\n",
    "                            learnig_rate=0.1,\n",
    "                            gamma=0.7,\n",
    "                            colsample_bytree=0.6,\n",
    "                            booster='gbtree'\n",
    "                            )\n",
    "xgb_reg2.fit(X_train, y_train)\n",
    "xgb_pred2 = xgb_reg2.predict(X_test)\n",
    "print('MAE: ', mae(y_test, xgb_pred2))\n",
    "print('RMSE: ', np.sqrt(mse(y_test, xgb_pred2)))\n",
    "print('R-squared Score: ', r2_score(y_test, xgb_pred2))"
   ]
  },
  {
   "cell_type": "code",
   "execution_count": 32,
   "metadata": {},
   "outputs": [
    {
     "name": "stdout",
     "output_type": "stream",
     "text": [
      "MAE:  3833.1061779022466\n",
      "RMSE:  5728.712888798088\n",
      "R-squared Score:  0.5746426010557739\n"
     ]
    }
   ],
   "source": [
    "# Model 5: LightGBM Regression\n",
    "\n",
    "import lightgbm as lgb\n",
    "lgb_reg = lgb.LGBMRegressor(random_state=7)\n",
    "lgb_reg.fit(X_train, y_train)\n",
    "lgb_pred = lgb_reg.predict(X_test)\n",
    "print('MAE: ', mae(y_test, lgb_pred))\n",
    "print('RMSE: ', np.sqrt(mse(y_test, lgb_pred)))\n",
    "print('R-squared Score: ', r2_score(y_test, lgb_pred))"
   ]
  },
  {
   "cell_type": "code",
   "execution_count": 33,
   "metadata": {},
   "outputs": [],
   "source": [
    "# Model 5 - Parameter Tuning\n",
    "\n",
    "param_lgbr = {\n",
    "    'num_leaves': [8,16,32,40,48,64,100,128],\n",
    "    'max_depth': [3,6,9,15,21,25],\n",
    "    'learning_rate': [0.01,0.025,0.05,0.075,0.1,0.15,0.2],\n",
    "    'n_estimators': [100,250,500,1000,1500,2000],\n",
    "    'boosting': ['gbdt','dart', 'rf'],\n",
    "    'subsample': [0.5,0.75,1],\n",
    "    'feature_fraction': [0.3,0.5,0.7,1]\n",
    "}\n",
    "rs_lgbr = RandomizedSearchCV(lgb_reg, param_distributions=param_lgbr, scoring='neg_root_mean_squared_error', cv=5, n_jobs=-1, verbose=10)"
   ]
  },
  {
   "cell_type": "code",
   "execution_count": 34,
   "metadata": {},
   "outputs": [
    {
     "name": "stdout",
     "output_type": "stream",
     "text": [
      "Fitting 5 folds for each of 10 candidates, totalling 50 fits\n"
     ]
    },
    {
     "name": "stderr",
     "output_type": "stream",
     "text": [
      "[Parallel(n_jobs=-1)]: Using backend LokyBackend with 8 concurrent workers.\n",
      "[Parallel(n_jobs=-1)]: Done   2 tasks      | elapsed:   10.4s\n",
      "[Parallel(n_jobs=-1)]: Done   9 tasks      | elapsed:   21.8s\n",
      "[Parallel(n_jobs=-1)]: Done  16 tasks      | elapsed: 17.7min\n",
      "[Parallel(n_jobs=-1)]: Done  25 tasks      | elapsed: 19.6min\n",
      "[Parallel(n_jobs=-1)]: Done  34 tasks      | elapsed: 25.4min\n",
      "[Parallel(n_jobs=-1)]: Done  41 out of  50 | elapsed: 26.1min remaining:  5.7min\n",
      "[Parallel(n_jobs=-1)]: Done  47 out of  50 | elapsed: 26.4min remaining:  1.7min\n",
      "[Parallel(n_jobs=-1)]: Done  50 out of  50 | elapsed: 32.1min finished\n"
     ]
    },
    {
     "name": "stdout",
     "output_type": "stream",
     "text": [
      "[LightGBM] [Warning] boosting is set=gbdt, boosting_type=gbdt will be ignored. Current value: boosting=gbdt\n",
      "[LightGBM] [Warning] feature_fraction is set=0.7, colsample_bytree=1.0 will be ignored. Current value: feature_fraction=0.7\n"
     ]
    },
    {
     "data": {
      "text/plain": [
       "{'subsample': 1,\n",
       " 'num_leaves': 48,\n",
       " 'n_estimators': 2000,\n",
       " 'max_depth': 21,\n",
       " 'learning_rate': 0.2,\n",
       " 'feature_fraction': 0.7,\n",
       " 'boosting': 'gbdt'}"
      ]
     },
     "execution_count": 34,
     "metadata": {},
     "output_type": "execute_result"
    }
   ],
   "source": [
    "rs_lgbr.fit(X_train,y_train)\n",
    "rs_lgbr.best_params_"
   ]
  },
  {
   "cell_type": "code",
   "execution_count": 35,
   "metadata": {},
   "outputs": [
    {
     "name": "stdout",
     "output_type": "stream",
     "text": [
      "MAE:  2784.496509421737\n",
      "RMSE:  4471.217480963032\n",
      "R-squared Score:  0.7408856489772455\n"
     ]
    }
   ],
   "source": [
    "# Model 5 Tuned\n",
    "\n",
    "lgb_reg2 = lgb.LGBMRegressor(random_state=7,\n",
    "                             num_leaves=128,\n",
    "                             n_estimators=2000,\n",
    "                             max_depth=25,\n",
    "                             learning_rate=0.2,\n",
    "                             subsample=1,\n",
    "                             feature_fraction=0.9,\n",
    "                             boosting='gbdt'\n",
    "                            )\n",
    "lgb_reg2.fit(X_train, y_train)\n",
    "lgb_pred2 = lgb_reg2.predict(X_test)\n",
    "print('MAE: ', mae(y_test, lgb_pred2))\n",
    "print('RMSE: ', np.sqrt(mse(y_test, lgb_pred2)))\n",
    "print('R-squared Score: ', r2_score(y_test, lgb_pred2))"
   ]
  },
  {
   "cell_type": "code",
   "execution_count": null,
   "metadata": {},
   "outputs": [],
   "source": [
    "\n"
   ]
  }
 ],
 "metadata": {
  "kernelspec": {
   "display_name": "Python 3",
   "language": "python",
   "name": "python3"
  },
  "language_info": {
   "codemirror_mode": {
    "name": "ipython",
    "version": 3
   },
   "file_extension": ".py",
   "mimetype": "text/x-python",
   "name": "python",
   "nbconvert_exporter": "python",
   "pygments_lexer": "ipython3",
   "version": "3.8.3"
  }
 },
 "nbformat": 4,
 "nbformat_minor": 4
}
